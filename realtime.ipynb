{
 "cells": [
  {
   "cell_type": "code",
   "execution_count": 10,
   "metadata": {},
   "outputs": [],
   "source": [
    "import cv2 as cv\n",
    "import cv2\n",
    "from tensorflow import keras\n",
    "from tensorflow.keras.preprocessing.image import load_img\n",
    "from tensorflow.keras.preprocessing.image import img_to_array \n",
    "from tensorflow.keras.models import load_model\n",
    "import numpy as np  \n",
    "import matplotlib.pyplot as plt\n",
    "model1 = load_model('contrung.h5')\n",
    "label = ['ant','bee','beetle','butterfly','catepillar','cockroach']"
   ]
  },
  {
   "cell_type": "code",
   "execution_count": 11,
   "metadata": {},
   "outputs": [
    {
     "name": "stdout",
     "output_type": "stream",
     "text": [
      "WARNING:tensorflow:AutoGraph could not transform <function Model.make_predict_function.<locals>.predict_function at 0x000001F135554B88> and will run it as-is.\n",
      "Please report this to the TensorFlow team. When filing the bug, set the verbosity to 10 (on Linux, `export AUTOGRAPH_VERBOSITY=10`) and attach the full output.\n",
      "Cause: 'arguments' object has no attribute 'posonlyargs'\n",
      "To silence this warning, decorate the function with @tf.autograph.experimental.do_not_convert\n",
      "WARNING: AutoGraph could not transform <function Model.make_predict_function.<locals>.predict_function at 0x000001F135554B88> and will run it as-is.\n",
      "Please report this to the TensorFlow team. When filing the bug, set the verbosity to 10 (on Linux, `export AUTOGRAPH_VERBOSITY=10`) and attach the full output.\n",
      "Cause: 'arguments' object has no attribute 'posonlyargs'\n",
      "To silence this warning, decorate the function with @tf.autograph.experimental.do_not_convert\n"
     ]
    }
   ],
   "source": [
    "vid = cv.VideoCapture(0)\n",
    "  \n",
    "while(True):\n",
    "      \n",
    "    # Capture the video frame\n",
    "    # by frame\n",
    "    ret, frame = vid.read()\n",
    "    #print(frame.shape)\n",
    "    if not ret:\n",
    "        print(' can not read video frame. Video ended?')\n",
    "        break\n",
    "\n",
    "    \n",
    "    roi_color=cv.resize(frame,(200,200),interpolation=cv.INTER_AREA)\n",
    "    #roi_color=cv.cvtColor(roi_color.copy(),cv.COLOR_BGR2RGB)\n",
    "    roi_color=cv.GaussianBlur(roi_color.copy(),(1,1),0,0)\n",
    "    result = model1.predict(np.array(roi_color).reshape(-1,200,200,3))\n",
    "    result = np.argmax(result)\n",
    "    labels=label[(int(result))]\n",
    "    label_position=(40,60) #50 pixels below to move the label oqutside the face\n",
    "    cv.putText(frame,labels,label_position,cv.FONT_HERSHEY_SIMPLEX,1,(0,255,0),2)\n",
    "        \n",
    "        \n",
    "\n",
    "    \n",
    "    \n",
    "    \n",
    "    cv.imshow('frame', frame)\n",
    "\n",
    "    if cv.waitKey(1) & 0xFF == ord('q'):\n",
    "        break\n",
    "\n",
    "cv.destroyAllWindows()"
   ]
  },
  {
   "cell_type": "code",
   "execution_count": null,
   "metadata": {},
   "outputs": [],
   "source": []
  }
 ],
 "metadata": {
  "kernelspec": {
   "display_name": "Python 3",
   "language": "python",
   "name": "python3"
  },
  "language_info": {
   "codemirror_mode": {
    "name": "ipython",
    "version": 3
   },
   "file_extension": ".py",
   "mimetype": "text/x-python",
   "name": "python",
   "nbconvert_exporter": "python",
   "pygments_lexer": "ipython3",
   "version": "3.7.4"
  }
 },
 "nbformat": 4,
 "nbformat_minor": 2
}
